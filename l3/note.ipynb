{
 "cells": [
  {
   "cell_type": "markdown",
   "metadata": {},
   "source": [
    "Основи ООП\n"
   ]
  },
  {
   "cell_type": "markdown",
   "metadata": {},
   "source": [
    "вступ\n",
    "порівняння класичного програмування та ООП\n",
    "розуміння класів та обєктів"
   ]
  },
  {
   "cell_type": "markdown",
   "metadata": {},
   "source": [
    "завдання: в нас є клуб любителів Аніме. Клую обєнує людей з їх вподобаннями."
   ]
  },
  {
   "cell_type": "code",
   "execution_count": 1,
   "metadata": {},
   "outputs": [
    {
     "name": "stdout",
     "output_type": "stream",
     "text": [
      "Улюблене аніме Богдан: Людина Бензопила\n",
      "Улюблене аніме Тадей: Залізний Алхімік\n",
      ">>>>> Змінемо наш підхід та використаємо словники <<<<<<\n",
      "Улюблене аніме Богдан: ['Людина Бензопила', 'Залізний Алхімік', 'Реінкарнація безробітного']\n",
      "Улюблене аніме Тадей: 5 сантиметрів на секунду\n",
      "Улюблене аніме Микола: ['Хелсінг', 'DxD']\n",
      "Улюблене аніме Денис: Почни дивитись Аніме!\n"
     ]
    }
   ],
   "source": [
    "names = [\"Богдан\", \"Тадей\"]  #учасники клубу\n",
    "animes = [\"Людина Бензопила\", \"Залізний Алхімік\", \"5 сантиметрів на секунду\"]\n",
    "\n",
    "for i in range(len(names)):\n",
    "    print(f\"Улюблене аніме {names[i]}: {animes[i]}\")\n",
    "\n",
    "# якщо немає прямої відповідності між індексами, в нас буде плутанини в співставленні Учасників та їх вподобань\n",
    "print(\">>>>> Змінемо наш підхід та використаємо словники <<<<<<\")\n",
    "anime_club = {\"Богдан\": [\"Людина Бензопила\", \"Залізний Алхімік\", \"Реінкарнація безробітного\"],\n",
    "              \"Тадей\": \"5 сантиметрів на секунду\",\n",
    "              \"Микола\": [\"Хелсінг\", \"DxD\"],\n",
    "              \"Денис\": None}\n",
    "\n",
    "for key in anime_club.keys():\n",
    "    print(f\"Улюблене аніме {key}: {anime_club[key] if anime_club[key] != None else 'Почни дивитись Аніме!'}\")\n",
    "\n",
    "#  а якщо ми хочемо ще додати інформацію про улюблених персонажів з Аніме\n",
    "#додавати улюблених персонажів можна ввівши ще один словник але нам прийдеться доступатидо елементів по вторинним ключам\n",
    "anime_club_v2 = {\"Богдан\": {\"Людина Бензопила\": \"Пауер\", \n",
    "                            \"Залізний Алхімік\": [\"Едвард Елрік\", \"Альфонс Елрік\"], \n",
    "                            \"Реінкарнація безробітного\": \"Еріс\"},\n",
    "                \"Тадей\": {\"5 сантиметрів на секунду\": \"Акарі\"},\n",
    "                \"Денис\": None,\n",
    "                \"Микола\": {\"Хелсінг\": \"Алукард\"}\n",
    "                }"
   ]
  },
  {
   "cell_type": "code",
   "execution_count": 2,
   "metadata": {},
   "outputs": [
    {
     "name": "stdout",
     "output_type": "stream",
     "text": [
      "Виводимо інформацію про учасника: Богдан\n",
      "Улюблений персонаж з аніме <<Людина Бензопила>> буде: Пауер\n",
      "Улюблений персонаж з аніме <<Залізний Алхімік>> буде: ['Едвард Елрік', 'Альфонс Елрік']\n",
      "Улюблений персонаж з аніме <<Реінкарнація безробітного>> буде: Еріс\n",
      ">>>>>>>>>>>>>>>\n",
      "Виводимо інформацію про учасника: Тадей\n",
      "Улюблений персонаж з аніме <<5 сантиметрів на секунду>> буде: Акарі\n",
      ">>>>>>>>>>>>>>>\n",
      "Виводимо інформацію про учасника: Денис\n",
      ">>>>>>>>>>>>>>>\n",
      "Виводимо інформацію про учасника: Микола\n",
      "Улюблений персонаж з аніме <<Хелсінг>> буде: Алукард\n",
      ">>>>>>>>>>>>>>>\n"
     ]
    }
   ],
   "source": [
    "for users in anime_club_v2.keys():\n",
    "    print(f\"Виводимо інформацію про учасника: {users}\")\n",
    "    if isinstance(anime_club_v2[users], dict):  \n",
    "        for anime in anime_club_v2[users].keys():\n",
    "            print(f\"Улюблений персонаж з аніме <<{anime}>> буде: {anime_club_v2[users][anime]}\")\n",
    "    print(\">\"*15)"
   ]
  },
  {
   "cell_type": "code",
   "execution_count": 4,
   "metadata": {},
   "outputs": [],
   "source": [
    "# Створюючи класи ми може описати певне явище так як ми собі цього хочумо\n",
    "class MyAnimeClab:\n",
    "    # Це клас є пустою оболонкою, м можемо накидувати в нього все що хочемо\n",
    "    pass\n",
    "\n",
    "i = int() \n",
    "bb = MyAnimeClab() # навіть колір підсвітки однаковий, бо Int це вбудований клас, а MyAnimeClab це наш створений клас!\n",
    "\n",
    "bb.name = \"Богдан\"\n",
    "bb.favorite_anime = set([\"Людина Бензопила\", \"Залізний Алхімік\", \"Реінкарнація безробітного\"])\n",
    "bb.favorite_characters = {\"Людина Бензопила\": \"Пауер\", \n",
    "                          \"Залізний Алхімік\": [\"Едвард Елрік\", \"Альфонс Елрік\"], \n",
    "                          \"Реінкарнація безробітного\": \"Еріс\"}\n",
    "\n",
    "tt = MyAnimeClab() \n",
    "tt.name = \"Тадей\"\n",
    "tt.favorite_anime = set([\"5 сантиметрів на секунду\"])\n",
    "tt.favorite_characters = dict({\"5 сантиметрів на секунду\": \"Акарі\"})\n",
    "\n",
    "dd = MyAnimeClab() \n",
    "dd.name = \"Денис\"\n",
    "dd.favorite_anime = None\n",
    "dd.favorite_characters = None"
   ]
  },
  {
   "cell_type": "code",
   "execution_count": 5,
   "metadata": {},
   "outputs": [],
   "source": [
    "def print_info(obj:list):\n",
    "    for o in obj:\n",
    "        print(f\">>> Виводимо інформацію про учасника: {o.name}\")\n",
    "        if o.favorite_anime != None:\n",
    "            for anime in o.favorite_anime:\n",
    "                print(f\"Улюблене аніме {o.name} буде: {anime}\")\n",
    "                if isinstance(o.favorite_characters, dict) and anime in o.favorite_characters.keys():\n",
    "                    print(f\"Улюблений персонаж з аніме {anime}: {o.favorite_characters[anime]}\")\n",
    "                else:\n",
    "                    print(f\"У {o.name} немає улюблених персонажів в аніме: {anime}\")\n",
    "        else:\n",
    "            print(f\"У {o.name} немає улюблених аніме\")"
   ]
  },
  {
   "cell_type": "code",
   "execution_count": 6,
   "metadata": {},
   "outputs": [
    {
     "name": "stdout",
     "output_type": "stream",
     "text": [
      ">>> Виводимо інформацію про учасника: Богдан\n",
      "Улюблене аніме Богдан буде: Людина Бензопила\n",
      "Улюблений персонаж з аніме Людина Бензопила: Пауер\n",
      "Улюблене аніме Богдан буде: Залізний Алхімік\n",
      "Улюблений персонаж з аніме Залізний Алхімік: ['Едвард Елрік', 'Альфонс Елрік']\n",
      "Улюблене аніме Богдан буде: Реінкарнація безробітного\n",
      "Улюблений персонаж з аніме Реінкарнація безробітного: Еріс\n",
      ">>> Виводимо інформацію про учасника: Тадей\n",
      "Улюблене аніме Тадей буде: 5 сантиметрів на секунду\n",
      "Улюблений персонаж з аніме 5 сантиметрів на секунду: Акарі\n",
      ">>> Виводимо інформацію про учасника: Денис\n",
      "У Денис немає улюблених аніме\n"
     ]
    }
   ],
   "source": [
    "print_info([bb, tt, dd])"
   ]
  },
  {
   "cell_type": "code",
   "execution_count": 7,
   "metadata": {},
   "outputs": [],
   "source": [
    "oo = MyAnimeClab()\n",
    "\n",
    "oo.full_name = \"Олег О\"\n",
    "oo.anime = {\"Чорна Конюшина\"}"
   ]
  },
  {
   "cell_type": "markdown",
   "metadata": {},
   "source": [
    "створюємо повноцінний клас та вивчаємо його елементи"
   ]
  },
  {
   "cell_type": "markdown",
   "metadata": {},
   "source": [
    "у кожному класі має бути одна метод яка називається Конструктором та відповідає за те який вигляд має обєкт даного класу в Конструктор передається аргумент self який є вказівником на обєкт"
   ]
  },
  {
   "cell_type": "code",
   "execution_count": 8,
   "metadata": {},
   "outputs": [],
   "source": [
    "class AnimeClab:\n",
    "   unic_favorite_anime = set()\n",
    "   \n",
    "   def __init__(self, name:str, surname:str, favorite_anime:set, favorite_characters:dict=None) -> None:\n",
    "      # Це просто прінт щоб ми знали що викликався нас конструктор\n",
    "      print(f\"Ура в нас є новий учасник: {name} {surname}!\")\n",
    "      self.name = name # кожне поле обєкта називається атрибутом\n",
    "      self.surname = surname\n",
    "      self.favorite_anime = favorite_anime\n",
    "      self.favorite_characters = favorite_characters\n",
    "      self.rank = None\n",
    "      self.user = self.define_user(name, surname)\n",
    "      AnimeClab.unic_favorite_anime = AnimeClab.unic_favorite_anime.union(favorite_anime) if favorite_anime != None else AnimeClab.unic_favorite_anime\n",
    "\n",
    "   \n",
    "   @property\n",
    "   def full_name(self):\n",
    "      # тут також можуть бути якісь команди\n",
    "      return f\"{self.name} {self.surname}\"\n",
    "\n",
    "   @property\n",
    "   def anime_amount(self):\n",
    "      return len(self.favorite_anime)\n",
    "   \n",
    "   @property\n",
    "   def rank_beginner(self):\n",
    "      return \"Початківець анімешник\"\n",
    "\n",
    "   @property\n",
    "   def rank_pro(self):\n",
    "      return \"Анімешник задрот\"\n",
    "   \n",
    "   def add_new_favorite_anime(self, title:str):\n",
    "      print(f\"{self.name} має нове улюблене аніме: {title}\")\n",
    "      self.favorite_anime.add(title)\n",
    "      AnimeClab.unic_favorite_anime.add(title)\n",
    "   \n",
    "   def remove_favorite_anime(self, title:str):\n",
    "      print(f\"Чомусь {self.name}у більше не пободається аніме: {title}\")\n",
    "      self.favorite_anime.remove(title)\n",
    "\n",
    "   def count_favorite_animes(self):\n",
    "      return len(self.favorite_anime)\n",
    "   \n",
    "   @staticmethod\n",
    "   def invite_frient(name:str):\n",
    "      print(f\"Запрошую {name} до нас у клуб. Ми ділимось враженнями про найкращі аніме!\")\n",
    "\n",
    "   @staticmethod\n",
    "   def define_user(name:str, surname:str):\n",
    "      return f\"{name} на прізвисько {surname}\"\n",
    "   \n",
    "   @classmethod\n",
    "   def new_participant(cls, name:str, surname:str):\n",
    "      return cls(name, surname, favorite_anime=None)"
   ]
  },
  {
   "cell_type": "code",
   "execution_count": 9,
   "metadata": {},
   "outputs": [
    {
     "name": "stdout",
     "output_type": "stream",
     "text": [
      "Ура в нас є новий учасник: Богдан Bobas!\n",
      "Ура в нас є новий учасник: Тадей Т!\n",
      "Ура в нас є новий учасник: Денис Д!\n",
      "Ура в нас є новий учасник: Олег О!\n"
     ]
    }
   ],
   "source": [
    "bb = AnimeClab(\"Богдан\", \"Bobas\", set([\"Людина Бензопила\", \"Залізний Алхімік\", \"Реінкарнація безробітного\"]), {\"Людина Бензопила\": \"Пауер\"})\n",
    "tt = AnimeClab(\"Тадей\", \"Т\", set([\"5 сантиметрів на секунду\"]), {\"5 сантиметрів на секунду\": \"Акарі\"})\n",
    "#dd = AnimeClab(\"Денис\", \"Д\", None)\n",
    "dd = AnimeClab.new_participant(\"Денис\", \"Д\")\n",
    "oo = AnimeClab(\"Олег\", \"О\", {\"Чорна Конюшина\"})"
   ]
  },
  {
   "cell_type": "code",
   "execution_count": 10,
   "metadata": {},
   "outputs": [
    {
     "name": "stdout",
     "output_type": "stream",
     "text": [
      ">>> Виводимо інформацію про учасника: Богдан\n",
      "Улюблене аніме Богдан буде: Людина Бензопила\n",
      "Улюблений персонаж з аніме Людина Бензопила: Пауер\n",
      "Улюблене аніме Богдан буде: Залізний Алхімік\n",
      "У Богдан немає улюблених персонажів в аніме: Залізний Алхімік\n",
      "Улюблене аніме Богдан буде: Реінкарнація безробітного\n",
      "У Богдан немає улюблених персонажів в аніме: Реінкарнація безробітного\n",
      ">>> Виводимо інформацію про учасника: Тадей\n",
      "Улюблене аніме Тадей буде: 5 сантиметрів на секунду\n",
      "Улюблений персонаж з аніме 5 сантиметрів на секунду: Акарі\n",
      ">>> Виводимо інформацію про учасника: Денис\n",
      "У Денис немає улюблених аніме\n",
      ">>> Виводимо інформацію про учасника: Олег\n",
      "Улюблене аніме Олег буде: Чорна Конюшина\n",
      "У Олег немає улюблених персонажів в аніме: Чорна Конюшина\n"
     ]
    }
   ],
   "source": [
    "print_info([bb, tt, dd, oo])"
   ]
  },
  {
   "cell_type": "code",
   "execution_count": 11,
   "metadata": {},
   "outputs": [
    {
     "name": "stdout",
     "output_type": "stream",
     "text": [
      "Спочатку улюблені персонажі аніме Олег є: None\n",
      "Після внесення змін у атрибут, улюблені персонажі будуть: {'Наруто': 'Саске Учіха'}\n"
     ]
    }
   ],
   "source": [
    "print(f\"Спочатку улюблені персонажі аніме {oo.name} є: {oo.favorite_characters}\")\n",
    "oo.favorite_characters = {\"Наруто\": \"Саске Учіха\"}\n",
    "print(f\"Після внесення змін у атрибут, улюблені персонажі будуть: {oo.favorite_characters}\")"
   ]
  },
  {
   "cell_type": "markdown",
   "metadata": {},
   "source": [
    "відмінність між атрибутами та властивостями"
   ]
  },
  {
   "cell_type": "markdown",
   "metadata": {},
   "source": [
    "атрибути - це поля в обєкті, які можна змінбювати після ініціалізації самого обєкта властивості - це поля які не можна змінювати після ініціалізації обєкта"
   ]
  },
  {
   "cell_type": "code",
   "execution_count": 12,
   "metadata": {},
   "outputs": [
    {
     "name": "stdout",
     "output_type": "stream",
     "text": [
      "Учасник клубу Богдан, має улюблені аніме: {'Людина Бензопила', 'Залізний Алхімік', 'Реінкарнація безробітного'}.\n",
      "Учасник клубу Богдан Bobas, має 3 улюблених аніме.\n"
     ]
    }
   ],
   "source": [
    "# Виводимо інформацію через атрибути\n",
    "print(f\"Учасник клубу {bb.name}, має улюблені аніме: {bb.favorite_anime}.\")\n",
    "# Виводимо інформацію через властивості\n",
    "print(f\"Учасник клубу {bb.full_name}, має {bb.anime_amount} улюблених аніме.\")"
   ]
  },
  {
   "cell_type": "code",
   "execution_count": 13,
   "metadata": {},
   "outputs": [
    {
     "name": "stdout",
     "output_type": "stream",
     "text": [
      "Бронеслав Б_Б\n"
     ]
    }
   ],
   "source": [
    "bb.surname = \"Б_Б\"\n",
    "bb.name = \"Бронеслав\"\n",
    "\n",
    "# Від зміни атриутів буде змінватись залежна від цього властивість\n",
    "print(bb.full_name)\n",
    "\n",
    "# даний код викличе помилку\n",
    "#bb.full_name = \"Богдан Б\"\n"
   ]
  },
  {
   "cell_type": "code",
   "execution_count": 14,
   "metadata": {},
   "outputs": [
    {
     "name": "stdout",
     "output_type": "stream",
     "text": [
      "Ранг заданий в класі буде: Початківець анімешник\n",
      "А ранг який я собі хочу присвоїти буде: Недосвідчений анімешник\n"
     ]
    }
   ],
   "source": [
    "bb.rank_beginner\n",
    "\n",
    "bb.rank = \"Недосвідчений анімешник\"\n",
    "\n",
    "print(f\"Ранг заданий в класі буде: {bb.rank_beginner}\\nА ранг який я собі хочу присвоїти буде: {bb.rank}\")"
   ]
  },
  {
   "cell_type": "code",
   "execution_count": 15,
   "metadata": {},
   "outputs": [
    {
     "name": "stdout",
     "output_type": "stream",
     "text": [
      ">>> Виводимо інформацію про учасника: Бронеслав\n",
      "Улюблене аніме Бронеслав буде: Людина Бензопила\n",
      "Улюблений персонаж з аніме Людина Бензопила: Пауер\n",
      "Улюблене аніме Бронеслав буде: Залізний Алхімік\n",
      "У Бронеслав немає улюблених персонажів в аніме: Залізний Алхімік\n",
      "Улюблене аніме Бронеслав буде: Реінкарнація безробітного\n",
      "У Бронеслав немає улюблених персонажів в аніме: Реінкарнація безробітного\n",
      "Бронеслав має нове улюблене аніме: Королівство руїн\n",
      "Чомусь Бронеславу більше не пободається аніме: Людина Бензопила\n",
      ">>> Виводимо інформацію про учасника: Бронеслав\n",
      "Улюблене аніме Бронеслав буде: Залізний Алхімік\n",
      "У Бронеслав немає улюблених персонажів в аніме: Залізний Алхімік\n",
      "Улюблене аніме Бронеслав буде: Реінкарнація безробітного\n",
      "У Бронеслав немає улюблених персонажів в аніме: Реінкарнація безробітного\n",
      "Улюблене аніме Бронеслав буде: Королівство руїн\n",
      "У Бронеслав немає улюблених персонажів в аніме: Королівство руїн\n"
     ]
    }
   ],
   "source": [
    "print_info([bb])\n",
    "\n",
    "bb.add_new_favorite_anime(\"Королівство руїн\")\n",
    "\n",
    "bb.remove_favorite_anime(\"Людина Бензопила\")\n",
    "\n",
    "print_info([bb])"
   ]
  },
  {
   "cell_type": "code",
   "execution_count": 16,
   "metadata": {},
   "outputs": [
    {
     "name": "stdout",
     "output_type": "stream",
     "text": [
      "У Бронеслава є 3 улюблених аніме.\n",
      "У Тадейа є 1 улюблених аніме.\n"
     ]
    }
   ],
   "source": [
    "for obj in [bb, tt]:\n",
    "    print(f\"У {obj.name}а є {obj.count_favorite_animes()} улюблених аніме.\")"
   ]
  },
  {
   "cell_type": "code",
   "execution_count": 17,
   "metadata": {},
   "outputs": [
    {
     "name": "stdout",
     "output_type": "stream",
     "text": [
      "Запрошую Мар'ян до нас у клуб. Ми ділимось враженнями про найкращі аніме!\n",
      "Запрошую Мар'ян до нас у клуб. Ми ділимось враженнями про найкращі аніме!\n"
     ]
    }
   ],
   "source": [
    "# так не дуже робиться бо статичний метод ніяк не привязаний до обєкта\n",
    "bb.invite_frient(\"Мар'ян\")\n",
    "# як бачимо ми можемо викликати статичний метод напряму з класу\n",
    "AnimeClab.invite_frient(\"Мар'ян\")"
   ]
  },
  {
   "cell_type": "code",
   "execution_count": 18,
   "metadata": {},
   "outputs": [
    {
     "data": {
      "text/plain": [
       "'Богдан на прізвисько Bobas'"
      ]
     },
     "execution_count": 18,
     "metadata": {},
     "output_type": "execute_result"
    }
   ],
   "source": [
    "# Це поле/атрибут було згенероване статичним методом\n",
    "bb.user "
   ]
  },
  {
   "cell_type": "code",
   "execution_count": 19,
   "metadata": {},
   "outputs": [
    {
     "data": {
      "text/plain": [
       "{'5 сантиметрів на секунду',\n",
       " 'Залізний Алхімік',\n",
       " 'Королівство руїн',\n",
       " 'Людина Бензопила',\n",
       " 'Реінкарнація безробітного',\n",
       " 'Чорна Конюшина'}"
      ]
     },
     "execution_count": 19,
     "metadata": {},
     "output_type": "execute_result"
    }
   ],
   "source": [
    "AnimeClab.unic_favorite_anime"
   ]
  },
  {
   "cell_type": "code",
   "execution_count": 20,
   "metadata": {},
   "outputs": [
    {
     "name": "stdout",
     "output_type": "stream",
     "text": [
      "Ініціалізація обєкту без задання улюблених аніме по замовчуванню видасть: None\n"
     ]
    }
   ],
   "source": [
    "print(f\"Ініціалізація обєкту без задання улюблених аніме по замовчуванню видасть: {dd.favorite_anime}\")"
   ]
  },
  {
   "cell_type": "code",
   "execution_count": 21,
   "metadata": {},
   "outputs": [
    {
     "name": "stdout",
     "output_type": "stream",
     "text": [
      "Це виведеться при запуску на пряму та при здійснення імпорту бібліотеки!\n",
      "Ура в нас є новий учасник: Тадей Т!\n",
      "Був створений новий обєкт: Тадей який любить наступні аніме: {'5 сантиметрів на секунду'}\n"
     ]
    }
   ],
   "source": [
    "from my_lib import AnimeClabLib\n",
    "\n",
    "ll = AnimeClabLib(\"Тадей\", \"Т\", set([\"5 сантиметрів на секунду\"]), {\"5 сантиметрів на секунду\": \"Акарі\"})\n",
    "print(f\"Був створений новий обєкт: {ll.name} який любить наступні аніме: {ll.favorite_anime}\")"
   ]
  },
  {
   "cell_type": "code",
   "execution_count": 22,
   "metadata": {},
   "outputs": [],
   "source": [
    "import my_lib"
   ]
  }
 ],
 "metadata": {
  "kernelspec": {
   "display_name": "Python 3",
   "language": "python",
   "name": "python3"
  },
  "language_info": {
   "codemirror_mode": {
    "name": "ipython",
    "version": 3
   },
   "file_extension": ".py",
   "mimetype": "text/x-python",
   "name": "python",
   "nbconvert_exporter": "python",
   "pygments_lexer": "ipython3",
   "version": "3.9.13"
  }
 },
 "nbformat": 4,
 "nbformat_minor": 2
}
