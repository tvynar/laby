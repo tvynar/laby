{
 "cells": [
  {
   "cell_type": "markdown",
   "metadata": {},
   "source": [
    "Працюємо з програмою на Python в інтерактивному режимі\n",
    "будемо пояснювати код програми у кожній комірці;\n",
    "\n",
    "комірка здійснює імпорт всіх необідних для роботи бібліотек:"
   ]
  },
  {
   "cell_type": "code",
   "execution_count": 2,
   "metadata": {},
   "outputs": [],
   "source": [
    "from datetime import datetime\n",
    "from time import time, localtime, strftime "
   ]
  },
  {
   "cell_type": "markdown",
   "metadata": {},
   "source": [
    "комірка задає змінні:"
   ]
  },
  {
   "cell_type": "code",
   "execution_count": 3,
   "metadata": {},
   "outputs": [],
   "source": [
    "name = \"tadei\"\n",
    "location = \"Lviv\""
   ]
  },
  {
   "cell_type": "markdown",
   "metadata": {},
   "source": [
    "здійснимо вивід тексту за допомогою команди print:"
   ]
  },
  {
   "cell_type": "code",
   "execution_count": 4,
   "metadata": {},
   "outputs": [
    {
     "name": "stdout",
     "output_type": "stream",
     "text": [
      "tadei почав вчитися програмуванню 2023-12-21 16:33:36.179747. Lviv є найкращим містом!\n"
     ]
    }
   ],
   "source": [
    "print(f\"{name} почав вчитися програмуванню {datetime.now()}. {location} є найкращим містом!\")"
   ]
  },
  {
   "cell_type": "markdown",
   "metadata": {},
   "source": [
    "попрактикуємось з комірками пісял того як модифікували код додавши нову бібліотеку"
   ]
  },
  {
   "cell_type": "code",
   "execution_count": 5,
   "metadata": {},
   "outputs": [
    {
     "name": "stdout",
     "output_type": "stream",
     "text": [
      "tadei почав вчитись програмуванню time.struct_time(tm_year=2023, tm_mon=12, tm_mday=21, tm_hour=16, tm_min=34, tm_sec=9, tm_wday=3, tm_yday=355, tm_isdst=0)\n"
     ]
    }
   ],
   "source": [
    "print(f\"{name} почав вчитись програмуванню {localtime(time())}\")"
   ]
  },
  {
   "cell_type": "markdown",
   "metadata": {},
   "source": [
    "Запитались у ChatGPT як вивести час у зрозумілому форматі"
   ]
  },
  {
   "cell_type": "code",
   "execution_count": 6,
   "metadata": {},
   "outputs": [
    {
     "name": "stdout",
     "output_type": "stream",
     "text": [
      "tadei почав програмувати: 21-12-2023 16:34:37 \n",
      "Я ❤ програмування.\n"
     ]
    }
   ],
   "source": [
    "current_time = time()\n",
    "local_time = localtime(current_time) \n",
    "\n",
    "formatted_time = strftime(\"%d-%m-%Y %H:%M:%S\", local_time)\n",
    "\n",
    "print(f\"{name} почав програмувати:\", formatted_time,\"\\nЯ \\u2764 програмування.\")"
   ]
  }
 ],
 "metadata": {
  "kernelspec": {
   "display_name": "Python 3",
   "language": "python",
   "name": "python3"
  },
  "language_info": {
   "codemirror_mode": {
    "name": "ipython",
    "version": 3
   },
   "file_extension": ".py",
   "mimetype": "text/x-python",
   "name": "python",
   "nbconvert_exporter": "python",
   "pygments_lexer": "ipython3",
   "version": "3.9.13"
  }
 },
 "nbformat": 4,
 "nbformat_minor": 2
}
