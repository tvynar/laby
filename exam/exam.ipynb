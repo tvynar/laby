{
 "cells": [
  {
   "cell_type": "code",
   "execution_count": 3,
   "metadata": {},
   "outputs": [
    {
     "name": "stdout",
     "output_type": "stream",
     "text": [
      "1 помножити на 5 дорівнює 5\n",
      "2 помножити на 5 дорівнює 10\n",
      "3 помножити на 5 дорівнює 15\n",
      "4 помножити на 5 дорівнює 20\n",
      "5 помножити на 5 дорівнює 25\n",
      "6 помножити на 5 дорівнює 30\n",
      "7 помножити на 5 дорівнює 35\n",
      "8 помножити на 5 дорівнює 40\n",
      "9 помножити на 5 дорівнює 45\n",
      "10 помножити на 5 дорівнює 50\n"
     ]
    }
   ],
   "source": [
    "def my_exam_func(number):\n",
    "    return number * 5\n",
    "\n",
    "for i in range(1, 11):\n",
    "    print(f'{i} помножити на 5 дорівнює {my_exam_func(i)}')\n"
   ]
  }
 ],
 "metadata": {
  "kernelspec": {
   "display_name": "Python 3",
   "language": "python",
   "name": "python3"
  },
  "language_info": {
   "codemirror_mode": {
    "name": "ipython",
    "version": 3
   },
   "file_extension": ".py",
   "mimetype": "text/x-python",
   "name": "python",
   "nbconvert_exporter": "python",
   "pygments_lexer": "ipython3",
   "version": "3.9.13"
  }
 },
 "nbformat": 4,
 "nbformat_minor": 2
}
